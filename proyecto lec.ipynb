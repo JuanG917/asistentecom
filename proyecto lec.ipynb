{
  "nbformat": 4,
  "nbformat_minor": 0,
  "metadata": {
    "colab": {
      "provenance": []
    },
    "kernelspec": {
      "name": "python3",
      "display_name": "Python 3"
    },
    "language_info": {
      "name": "python"
    }
  },
  "cells": [
    {
      "cell_type": "code",
      "execution_count": 1,
      "metadata": {
        "colab": {
          "base_uri": "https://localhost:8080/"
        },
        "id": "M6syn9Yoblrp",
        "outputId": "4c684fab-8d46-4fd9-f032-03cc24ebdf7f"
      },
      "outputs": [
        {
          "output_type": "stream",
          "name": "stdout",
          "text": [
            "Collecting googletrans==4.0.0-rc1\n",
            "  Downloading googletrans-4.0.0rc1.tar.gz (20 kB)\n",
            "  Preparing metadata (setup.py) ... \u001b[?25l\u001b[?25hdone\n",
            "Collecting httpx==0.13.3 (from googletrans==4.0.0-rc1)\n",
            "  Downloading httpx-0.13.3-py3-none-any.whl (55 kB)\n",
            "\u001b[2K     \u001b[90m━━━━━━━━━━━━━━━━━━━━━━━━━━━━━━━━━━━━━━━━\u001b[0m \u001b[32m55.1/55.1 kB\u001b[0m \u001b[31m2.9 MB/s\u001b[0m eta \u001b[36m0:00:00\u001b[0m\n",
            "\u001b[?25hRequirement already satisfied: certifi in /usr/local/lib/python3.10/dist-packages (from httpx==0.13.3->googletrans==4.0.0-rc1) (2023.7.22)\n",
            "Collecting hstspreload (from httpx==0.13.3->googletrans==4.0.0-rc1)\n",
            "  Downloading hstspreload-2023.1.1-py3-none-any.whl (1.5 MB)\n",
            "\u001b[2K     \u001b[90m━━━━━━━━━━━━━━━━━━━━━━━━━━━━━━━━━━━━━━━━\u001b[0m \u001b[32m1.5/1.5 MB\u001b[0m \u001b[31m34.3 MB/s\u001b[0m eta \u001b[36m0:00:00\u001b[0m\n",
            "\u001b[?25hRequirement already satisfied: sniffio in /usr/local/lib/python3.10/dist-packages (from httpx==0.13.3->googletrans==4.0.0-rc1) (1.3.0)\n",
            "Collecting chardet==3.* (from httpx==0.13.3->googletrans==4.0.0-rc1)\n",
            "  Downloading chardet-3.0.4-py2.py3-none-any.whl (133 kB)\n",
            "\u001b[2K     \u001b[90m━━━━━━━━━━━━━━━━━━━━━━━━━━━━━━━━━━━━━━\u001b[0m \u001b[32m133.4/133.4 kB\u001b[0m \u001b[31m13.2 MB/s\u001b[0m eta \u001b[36m0:00:00\u001b[0m\n",
            "\u001b[?25hCollecting idna==2.* (from httpx==0.13.3->googletrans==4.0.0-rc1)\n",
            "  Downloading idna-2.10-py2.py3-none-any.whl (58 kB)\n",
            "\u001b[2K     \u001b[90m━━━━━━━━━━━━━━━━━━━━━━━━━━━━━━━━━━━━━━━━\u001b[0m \u001b[32m58.8/58.8 kB\u001b[0m \u001b[31m6.3 MB/s\u001b[0m eta \u001b[36m0:00:00\u001b[0m\n",
            "\u001b[?25hCollecting rfc3986<2,>=1.3 (from httpx==0.13.3->googletrans==4.0.0-rc1)\n",
            "  Downloading rfc3986-1.5.0-py2.py3-none-any.whl (31 kB)\n",
            "Collecting httpcore==0.9.* (from httpx==0.13.3->googletrans==4.0.0-rc1)\n",
            "  Downloading httpcore-0.9.1-py3-none-any.whl (42 kB)\n",
            "\u001b[2K     \u001b[90m━━━━━━━━━━━━━━━━━━━━━━━━━━━━━━━━━━━━━━━━\u001b[0m \u001b[32m42.6/42.6 kB\u001b[0m \u001b[31m4.5 MB/s\u001b[0m eta \u001b[36m0:00:00\u001b[0m\n",
            "\u001b[?25hCollecting h11<0.10,>=0.8 (from httpcore==0.9.*->httpx==0.13.3->googletrans==4.0.0-rc1)\n",
            "  Downloading h11-0.9.0-py2.py3-none-any.whl (53 kB)\n",
            "\u001b[2K     \u001b[90m━━━━━━━━━━━━━━━━━━━━━━━━━━━━━━━━━━━━━━━━\u001b[0m \u001b[32m53.6/53.6 kB\u001b[0m \u001b[31m5.3 MB/s\u001b[0m eta \u001b[36m0:00:00\u001b[0m\n",
            "\u001b[?25hCollecting h2==3.* (from httpcore==0.9.*->httpx==0.13.3->googletrans==4.0.0-rc1)\n",
            "  Downloading h2-3.2.0-py2.py3-none-any.whl (65 kB)\n",
            "\u001b[2K     \u001b[90m━━━━━━━━━━━━━━━━━━━━━━━━━━━━━━━━━━━━━━━━\u001b[0m \u001b[32m65.0/65.0 kB\u001b[0m \u001b[31m7.1 MB/s\u001b[0m eta \u001b[36m0:00:00\u001b[0m\n",
            "\u001b[?25hCollecting hyperframe<6,>=5.2.0 (from h2==3.*->httpcore==0.9.*->httpx==0.13.3->googletrans==4.0.0-rc1)\n",
            "  Downloading hyperframe-5.2.0-py2.py3-none-any.whl (12 kB)\n",
            "Collecting hpack<4,>=3.0 (from h2==3.*->httpcore==0.9.*->httpx==0.13.3->googletrans==4.0.0-rc1)\n",
            "  Downloading hpack-3.0.0-py2.py3-none-any.whl (38 kB)\n",
            "Building wheels for collected packages: googletrans\n",
            "  Building wheel for googletrans (setup.py) ... \u001b[?25l\u001b[?25hdone\n",
            "  Created wheel for googletrans: filename=googletrans-4.0.0rc1-py3-none-any.whl size=17396 sha256=0c340c86edd5d806af910377fa1f0095c80001d050293155cdc3425c29894db5\n",
            "  Stored in directory: /root/.cache/pip/wheels/c0/59/9f/7372f0cf70160fe61b528532e1a7c8498c4becd6bcffb022de\n",
            "Successfully built googletrans\n",
            "Installing collected packages: rfc3986, hyperframe, hpack, h11, chardet, idna, hstspreload, h2, httpcore, httpx, googletrans\n",
            "  Attempting uninstall: chardet\n",
            "    Found existing installation: chardet 5.2.0\n",
            "    Uninstalling chardet-5.2.0:\n",
            "      Successfully uninstalled chardet-5.2.0\n",
            "  Attempting uninstall: idna\n",
            "    Found existing installation: idna 3.4\n",
            "    Uninstalling idna-3.4:\n",
            "      Successfully uninstalled idna-3.4\n",
            "Successfully installed chardet-3.0.4 googletrans-4.0.0rc1 h11-0.9.0 h2-3.2.0 hpack-3.0.0 hstspreload-2023.1.1 httpcore-0.9.1 httpx-0.13.3 hyperframe-5.2.0 idna-2.10 rfc3986-1.5.0\n",
            "Collecting gTTS\n",
            "  Downloading gTTS-2.3.2-py3-none-any.whl (28 kB)\n",
            "Requirement already satisfied: requests<3,>=2.27 in /usr/local/lib/python3.10/dist-packages (from gTTS) (2.31.0)\n",
            "Requirement already satisfied: click<8.2,>=7.1 in /usr/local/lib/python3.10/dist-packages (from gTTS) (8.1.7)\n",
            "Requirement already satisfied: charset-normalizer<4,>=2 in /usr/local/lib/python3.10/dist-packages (from requests<3,>=2.27->gTTS) (3.2.0)\n",
            "Requirement already satisfied: idna<4,>=2.5 in /usr/local/lib/python3.10/dist-packages (from requests<3,>=2.27->gTTS) (2.10)\n",
            "Requirement already satisfied: urllib3<3,>=1.21.1 in /usr/local/lib/python3.10/dist-packages (from requests<3,>=2.27->gTTS) (2.0.4)\n",
            "Requirement already satisfied: certifi>=2017.4.17 in /usr/local/lib/python3.10/dist-packages (from requests<3,>=2.27->gTTS) (2023.7.22)\n",
            "Installing collected packages: gTTS\n",
            "Successfully installed gTTS-2.3.2\n"
          ]
        }
      ],
      "source": [
        "!pip install googletrans==4.0.0-rc1\n",
        "!pip install gTTS\n"
      ]
    },
    {
      "cell_type": "code",
      "source": [
        "from googletrans import Translator\n",
        "from gtts import gTTS\n",
        "from IPython.display import Audio, display\n",
        "\n",
        "translator = Translator()\n",
        "\n",
        "# Interfaz de usuario\n",
        "source_text = input(\"Ingresa el texto que deseas traducir: \")\n",
        "target_language = input(\"Selecciona el idioma de destino (por ejemplo, 'es' para español): \")\n"
      ],
      "metadata": {
        "colab": {
          "base_uri": "https://localhost:8080/"
        },
        "id": "8Krsg12ubt62",
        "outputId": "4a6540f6-774d-466f-921f-d9f69e4bbe57"
      },
      "execution_count": 2,
      "outputs": [
        {
          "name": "stdout",
          "output_type": "stream",
          "text": [
            "Ingresa el texto que deseas traducir: I need help with my home work\n",
            "Selecciona el idioma de destino (por ejemplo, 'es' para español): español\n"
          ]
        }
      ]
    },
    {
      "cell_type": "code",
      "source": [
        "# Traducción\n",
        "translation = translator.translate(source_text, dest=\"es\")\n",
        "translated_text = translation.text\n",
        "\n",
        "# Síntesis de voz\n",
        "tts = gTTS(text=translated_text, lang=\"es\")\n"
      ],
      "metadata": {
        "id": "u1w_jsL1bvxJ"
      },
      "execution_count": 6,
      "outputs": []
    },
    {
      "cell_type": "code",
      "source": [
        "# Reproducir el audio\n",
        "tts.save(\"translation.mp3\")\n",
        "display(Audio(\"translation.mp3\", autoplay=True))\n"
      ],
      "metadata": {
        "colab": {
          "base_uri": "https://localhost:8080/",
          "height": 75
        },
        "id": "1kSWtFjzbxdx",
        "outputId": "145a8e1e-8f60-4a98-ab72-7a3e7bb9fb1e"
      },
      "execution_count": 7,
      "outputs": [
        {
          "output_type": "display_data",
          "data": {
            "text/plain": [
              "<IPython.lib.display.Audio object>"
            ],
            "text/html": [
              "\n",
              "                <audio  controls=\"controls\" autoplay=\"autoplay\">\n",
              "                    <source src=\"data:audio/mpeg;base64,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\" type=\"audio/mpeg\" />\n",
              "                    Your browser does not support the audio element.\n",
              "                </audio>\n",
              "              "
            ]
          },
          "metadata": {}
        }
      ]
    }
  ]
}